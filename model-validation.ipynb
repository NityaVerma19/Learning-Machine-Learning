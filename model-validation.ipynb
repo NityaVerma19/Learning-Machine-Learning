{
 "cells": [
  {
   "cell_type": "markdown",
   "id": "661275d1",
   "metadata": {
    "papermill": {
     "duration": 0.006936,
     "end_time": "2024-03-20T01:58:08.712212",
     "exception": false,
     "start_time": "2024-03-20T01:58:08.705276",
     "status": "completed"
    },
    "tags": []
   },
   "source": [
    "**This notebook is an exercise in the [Introduction to Machine Learning](https://www.kaggle.com/learn/intro-to-machine-learning) course.  You can reference the tutorial at [this link](https://www.kaggle.com/dansbecker/model-validation).**\n",
    "\n",
    "---\n"
   ]
  },
  {
   "cell_type": "markdown",
   "id": "c462d611",
   "metadata": {
    "papermill": {
     "duration": 0.006259,
     "end_time": "2024-03-20T01:58:08.725257",
     "exception": false,
     "start_time": "2024-03-20T01:58:08.718998",
     "status": "completed"
    },
    "tags": []
   },
   "source": [
    "## Recap\n",
    "You've built a model. In this exercise you will test how good your model is.\n",
    "\n",
    "Run the cell below to set up your coding environment where the previous exercise left off."
   ]
  },
  {
   "cell_type": "code",
   "execution_count": 1,
   "id": "c5ed4c7b",
   "metadata": {
    "execution": {
     "iopub.execute_input": "2024-03-20T01:58:08.740183Z",
     "iopub.status.busy": "2024-03-20T01:58:08.739552Z",
     "iopub.status.idle": "2024-03-20T01:58:11.569832Z",
     "shell.execute_reply": "2024-03-20T01:58:11.568614Z"
    },
    "papermill": {
     "duration": 2.840384,
     "end_time": "2024-03-20T01:58:11.572333",
     "exception": false,
     "start_time": "2024-03-20T01:58:08.731949",
     "status": "completed"
    },
    "tags": []
   },
   "outputs": [
    {
     "name": "stdout",
     "output_type": "stream",
     "text": [
      "First in-sample predictions: [208500. 181500. 223500. 140000. 250000.]\n",
      "Actual target values for those homes: [208500, 181500, 223500, 140000, 250000]\n",
      "Setup Complete\n"
     ]
    }
   ],
   "source": [
    "# Code you have previously used to load data\n",
    "import pandas as pd\n",
    "from sklearn.tree import DecisionTreeRegressor\n",
    "\n",
    "# Path of the file to read\n",
    "iowa_file_path = '../input/home-data-for-ml-course/train.csv'\n",
    "\n",
    "home_data = pd.read_csv(iowa_file_path)\n",
    "y = home_data.SalePrice\n",
    "feature_columns = ['LotArea', 'YearBuilt', '1stFlrSF', '2ndFlrSF', 'FullBath', 'BedroomAbvGr', 'TotRmsAbvGrd']\n",
    "X = home_data[feature_columns]\n",
    "\n",
    "# Specify Model\n",
    "iowa_model = DecisionTreeRegressor()\n",
    "# Fit Model\n",
    "iowa_model.fit(X, y)\n",
    "\n",
    "print(\"First in-sample predictions:\", iowa_model.predict(X.head()))\n",
    "print(\"Actual target values for those homes:\", y.head().tolist())\n",
    "\n",
    "# Set up code checking\n",
    "from learntools.core import binder\n",
    "binder.bind(globals())\n",
    "from learntools.machine_learning.ex4 import *\n",
    "print(\"Setup Complete\")"
   ]
  },
  {
   "cell_type": "markdown",
   "id": "135052cf",
   "metadata": {
    "papermill": {
     "duration": 0.005811,
     "end_time": "2024-03-20T01:58:11.584302",
     "exception": false,
     "start_time": "2024-03-20T01:58:11.578491",
     "status": "completed"
    },
    "tags": []
   },
   "source": [
    "# Exercises\n",
    "\n",
    "## Step 1: Split Your Data\n",
    "Use the `train_test_split` function to split up your data.\n",
    "\n",
    "Give it the argument `random_state=1` so the `check` functions know what to expect when verifying your code.\n",
    "\n",
    "Recall, your features are loaded in the DataFrame **X** and your target is loaded in **y**.\n"
   ]
  },
  {
   "cell_type": "code",
   "execution_count": 2,
   "id": "bacffb61",
   "metadata": {
    "execution": {
     "iopub.execute_input": "2024-03-20T01:58:11.598074Z",
     "iopub.status.busy": "2024-03-20T01:58:11.597632Z",
     "iopub.status.idle": "2024-03-20T01:58:11.615980Z",
     "shell.execute_reply": "2024-03-20T01:58:11.614900Z"
    },
    "papermill": {
     "duration": 0.028164,
     "end_time": "2024-03-20T01:58:11.618406",
     "exception": false,
     "start_time": "2024-03-20T01:58:11.590242",
     "status": "completed"
    },
    "tags": []
   },
   "outputs": [
    {
     "data": {
      "application/javascript": [
       "parent.postMessage({\"jupyterEvent\": \"custom.exercise_interaction\", \"data\": {\"outcomeType\": 1, \"valueTowardsCompletion\": 0.25, \"interactionType\": 1, \"questionType\": 2, \"questionId\": \"1_SplitData\", \"learnToolsVersion\": \"0.3.4\", \"failureMessage\": \"\", \"exceptionClass\": \"\", \"trace\": \"\"}}, \"*\")"
      ],
      "text/plain": [
       "<IPython.core.display.Javascript object>"
      ]
     },
     "metadata": {},
     "output_type": "display_data"
    },
    {
     "data": {
      "text/markdown": [
       "<span style=\"color:#33cc33\">Correct</span>"
      ],
      "text/plain": [
       "Correct"
      ]
     },
     "metadata": {},
     "output_type": "display_data"
    }
   ],
   "source": [
    "# Import the train_test_split function and uncomment\n",
    "from sklearn.model_selection import train_test_split \n",
    "\n",
    "# fill in and uncomment\n",
    "train_X, val_X, train_y, val_y = train_test_split(X,y, random_state = 1)\n",
    "\n",
    "# Check your answer\n",
    "step_1.check()"
   ]
  },
  {
   "cell_type": "code",
   "execution_count": 3,
   "id": "8a5afeee",
   "metadata": {
    "execution": {
     "iopub.execute_input": "2024-03-20T01:58:11.635430Z",
     "iopub.status.busy": "2024-03-20T01:58:11.634676Z",
     "iopub.status.idle": "2024-03-20T01:58:11.639799Z",
     "shell.execute_reply": "2024-03-20T01:58:11.638681Z"
    },
    "papermill": {
     "duration": 0.015876,
     "end_time": "2024-03-20T01:58:11.642208",
     "exception": false,
     "start_time": "2024-03-20T01:58:11.626332",
     "status": "completed"
    },
    "tags": []
   },
   "outputs": [],
   "source": [
    "# The lines below will show you a hint or the solution.\n",
    "# step_1.hint() \n",
    "# step_1.solution()\n"
   ]
  },
  {
   "cell_type": "markdown",
   "id": "de31d458",
   "metadata": {
    "papermill": {
     "duration": 0.00671,
     "end_time": "2024-03-20T01:58:11.655460",
     "exception": false,
     "start_time": "2024-03-20T01:58:11.648750",
     "status": "completed"
    },
    "tags": []
   },
   "source": [
    "## Step 2: Specify and Fit the Model\n",
    "\n",
    "Create a `DecisionTreeRegressor` model and fit it to the relevant data.\n",
    "Set `random_state` to 1 again when creating the model."
   ]
  },
  {
   "cell_type": "code",
   "execution_count": 4,
   "id": "e9048560",
   "metadata": {
    "execution": {
     "iopub.execute_input": "2024-03-20T01:58:11.670905Z",
     "iopub.status.busy": "2024-03-20T01:58:11.670457Z",
     "iopub.status.idle": "2024-03-20T01:58:11.699576Z",
     "shell.execute_reply": "2024-03-20T01:58:11.698488Z"
    },
    "papermill": {
     "duration": 0.040257,
     "end_time": "2024-03-20T01:58:11.702406",
     "exception": false,
     "start_time": "2024-03-20T01:58:11.662149",
     "status": "completed"
    },
    "tags": []
   },
   "outputs": [
    {
     "name": "stdout",
     "output_type": "stream",
     "text": [
      "[186500. 184000. 130000.  92000. 164500. 220000. 335000. 144152. 215000.\n",
      " 262000.]\n",
      "[186500. 184000. 130000.  92000. 164500. 220000. 335000. 144152. 215000.\n",
      " 262000.]\n"
     ]
    },
    {
     "data": {
      "application/javascript": [
       "parent.postMessage({\"jupyterEvent\": \"custom.exercise_interaction\", \"data\": {\"outcomeType\": 1, \"valueTowardsCompletion\": 0.25, \"interactionType\": 1, \"questionType\": 2, \"questionId\": \"2_FitModelWithTrain\", \"learnToolsVersion\": \"0.3.4\", \"failureMessage\": \"\", \"exceptionClass\": \"\", \"trace\": \"\"}}, \"*\")"
      ],
      "text/plain": [
       "<IPython.core.display.Javascript object>"
      ]
     },
     "metadata": {},
     "output_type": "display_data"
    },
    {
     "data": {
      "text/markdown": [
       "<span style=\"color:#33cc33\">Correct</span>"
      ],
      "text/plain": [
       "Correct"
      ]
     },
     "metadata": {},
     "output_type": "display_data"
    }
   ],
   "source": [
    "# You imported DecisionTreeRegressor in your last exercise\n",
    "# and that code has been copied to the setup code above. So, no need to\n",
    "# import it again\n",
    "\n",
    "# Specify the model\n",
    "iowa_model = DecisionTreeRegressor(random_state = 1)\n",
    "\n",
    "# Fit iowa_model with the training data.\n",
    "iowa_model.fit(train_X, train_y)\n",
    "# Check your answer\n",
    "step_2.check()"
   ]
  },
  {
   "cell_type": "code",
   "execution_count": 5,
   "id": "732fde22",
   "metadata": {
    "execution": {
     "iopub.execute_input": "2024-03-20T01:58:11.719078Z",
     "iopub.status.busy": "2024-03-20T01:58:11.718658Z",
     "iopub.status.idle": "2024-03-20T01:58:11.723289Z",
     "shell.execute_reply": "2024-03-20T01:58:11.722128Z"
    },
    "papermill": {
     "duration": 0.016292,
     "end_time": "2024-03-20T01:58:11.726314",
     "exception": false,
     "start_time": "2024-03-20T01:58:11.710022",
     "status": "completed"
    },
    "tags": []
   },
   "outputs": [],
   "source": [
    "# step_2.hint()\n",
    "# step_2.solution()"
   ]
  },
  {
   "cell_type": "markdown",
   "id": "e02184da",
   "metadata": {
    "papermill": {
     "duration": 0.007352,
     "end_time": "2024-03-20T01:58:11.741117",
     "exception": false,
     "start_time": "2024-03-20T01:58:11.733765",
     "status": "completed"
    },
    "tags": []
   },
   "source": [
    "## Step 3: Make Predictions with Validation data\n"
   ]
  },
  {
   "cell_type": "code",
   "execution_count": 6,
   "id": "04181285",
   "metadata": {
    "execution": {
     "iopub.execute_input": "2024-03-20T01:58:11.757668Z",
     "iopub.status.busy": "2024-03-20T01:58:11.757258Z",
     "iopub.status.idle": "2024-03-20T01:58:11.770197Z",
     "shell.execute_reply": "2024-03-20T01:58:11.768965Z"
    },
    "papermill": {
     "duration": 0.024261,
     "end_time": "2024-03-20T01:58:11.772718",
     "exception": false,
     "start_time": "2024-03-20T01:58:11.748457",
     "status": "completed"
    },
    "tags": []
   },
   "outputs": [
    {
     "data": {
      "application/javascript": [
       "parent.postMessage({\"jupyterEvent\": \"custom.exercise_interaction\", \"data\": {\"outcomeType\": 1, \"valueTowardsCompletion\": 0.25, \"interactionType\": 1, \"questionType\": 2, \"questionId\": \"3_ValPreds\", \"learnToolsVersion\": \"0.3.4\", \"failureMessage\": \"\", \"exceptionClass\": \"\", \"trace\": \"\"}}, \"*\")"
      ],
      "text/plain": [
       "<IPython.core.display.Javascript object>"
      ]
     },
     "metadata": {},
     "output_type": "display_data"
    },
    {
     "data": {
      "text/markdown": [
       "<span style=\"color:#33cc33\">Correct</span>"
      ],
      "text/plain": [
       "Correct"
      ]
     },
     "metadata": {},
     "output_type": "display_data"
    }
   ],
   "source": [
    "# Predict with all validation observations\n",
    "val_predictions = iowa_model.predict(val_X)\n",
    "\n",
    "# Check your answer\n",
    "step_3.check()"
   ]
  },
  {
   "cell_type": "code",
   "execution_count": 7,
   "id": "1a391d22",
   "metadata": {
    "execution": {
     "iopub.execute_input": "2024-03-20T01:58:11.789704Z",
     "iopub.status.busy": "2024-03-20T01:58:11.789331Z",
     "iopub.status.idle": "2024-03-20T01:58:11.794740Z",
     "shell.execute_reply": "2024-03-20T01:58:11.793492Z"
    },
    "papermill": {
     "duration": 0.017031,
     "end_time": "2024-03-20T01:58:11.797301",
     "exception": false,
     "start_time": "2024-03-20T01:58:11.780270",
     "status": "completed"
    },
    "tags": []
   },
   "outputs": [],
   "source": [
    "# step_3.hint()\n",
    "# step_3.solution()"
   ]
  },
  {
   "cell_type": "markdown",
   "id": "12d08876",
   "metadata": {
    "papermill": {
     "duration": 0.007195,
     "end_time": "2024-03-20T01:58:11.812180",
     "exception": false,
     "start_time": "2024-03-20T01:58:11.804985",
     "status": "completed"
    },
    "tags": []
   },
   "source": [
    "Inspect your predictions and actual values from validation data."
   ]
  },
  {
   "cell_type": "code",
   "execution_count": 8,
   "id": "17994982",
   "metadata": {
    "execution": {
     "iopub.execute_input": "2024-03-20T01:58:11.828596Z",
     "iopub.status.busy": "2024-03-20T01:58:11.828222Z",
     "iopub.status.idle": "2024-03-20T01:58:11.834765Z",
     "shell.execute_reply": "2024-03-20T01:58:11.833645Z"
    },
    "papermill": {
     "duration": 0.018187,
     "end_time": "2024-03-20T01:58:11.837789",
     "exception": false,
     "start_time": "2024-03-20T01:58:11.819602",
     "status": "completed"
    },
    "tags": []
   },
   "outputs": [
    {
     "name": "stdout",
     "output_type": "stream",
     "text": [
      "[184000. 130000.  92000. 164500.]\n",
      "267     179500\n",
      "288     122000\n",
      "649      84500\n",
      "1233    142000\n",
      "Name: SalePrice, dtype: int64\n"
     ]
    }
   ],
   "source": [
    "# print the top few validation predictions\n",
    "print(val_predictions[1:5])\n",
    "# print the top few actual prices from validation data\n",
    "print(val_y[1:5])"
   ]
  },
  {
   "cell_type": "markdown",
   "id": "2c2a46a5",
   "metadata": {
    "papermill": {
     "duration": 0.007405,
     "end_time": "2024-03-20T01:58:11.852893",
     "exception": false,
     "start_time": "2024-03-20T01:58:11.845488",
     "status": "completed"
    },
    "tags": []
   },
   "source": [
    "What do you notice that is different from what you saw with in-sample predictions (which are printed after the top code cell in this page).\n",
    "\n",
    "Do you remember why validation predictions differ from in-sample (or training) predictions? This is an important idea from the last lesson.\n",
    "\n",
    "## Step 4: Calculate the Mean Absolute Error in Validation Data\n"
   ]
  },
  {
   "cell_type": "code",
   "execution_count": 9,
   "id": "a2e1c7f5",
   "metadata": {
    "execution": {
     "iopub.execute_input": "2024-03-20T01:58:11.870595Z",
     "iopub.status.busy": "2024-03-20T01:58:11.870214Z",
     "iopub.status.idle": "2024-03-20T01:58:11.883129Z",
     "shell.execute_reply": "2024-03-20T01:58:11.882030Z"
    },
    "papermill": {
     "duration": 0.02494,
     "end_time": "2024-03-20T01:58:11.885638",
     "exception": false,
     "start_time": "2024-03-20T01:58:11.860698",
     "status": "completed"
    },
    "tags": []
   },
   "outputs": [
    {
     "name": "stdout",
     "output_type": "stream",
     "text": [
      "29652.931506849316\n"
     ]
    },
    {
     "data": {
      "application/javascript": [
       "parent.postMessage({\"jupyterEvent\": \"custom.exercise_interaction\", \"data\": {\"outcomeType\": 1, \"valueTowardsCompletion\": 0.25, \"interactionType\": 1, \"questionType\": 1, \"questionId\": \"4_MAE\", \"learnToolsVersion\": \"0.3.4\", \"failureMessage\": \"\", \"exceptionClass\": \"\", \"trace\": \"\"}}, \"*\")"
      ],
      "text/plain": [
       "<IPython.core.display.Javascript object>"
      ]
     },
     "metadata": {},
     "output_type": "display_data"
    },
    {
     "data": {
      "text/markdown": [
       "<span style=\"color:#33cc33\">Correct</span>"
      ],
      "text/plain": [
       "Correct"
      ]
     },
     "metadata": {},
     "output_type": "display_data"
    }
   ],
   "source": [
    "from sklearn.metrics import mean_absolute_error\n",
    "val_mae = mean_absolute_error(val_y, val_predictions)\n",
    "\n",
    "# uncomment following line to see the validation_mae\n",
    "print(val_mae)\n",
    "\n",
    "# Check your answer\n",
    "step_4.check()"
   ]
  },
  {
   "cell_type": "code",
   "execution_count": 10,
   "id": "59c01467",
   "metadata": {
    "execution": {
     "iopub.execute_input": "2024-03-20T01:58:11.905803Z",
     "iopub.status.busy": "2024-03-20T01:58:11.905283Z",
     "iopub.status.idle": "2024-03-20T01:58:11.910039Z",
     "shell.execute_reply": "2024-03-20T01:58:11.908786Z"
    },
    "papermill": {
     "duration": 0.017747,
     "end_time": "2024-03-20T01:58:11.912599",
     "exception": false,
     "start_time": "2024-03-20T01:58:11.894852",
     "status": "completed"
    },
    "tags": []
   },
   "outputs": [],
   "source": [
    "# step_4.hint()\n",
    "# step_4.solution()"
   ]
  },
  {
   "cell_type": "markdown",
   "id": "3b8c7229",
   "metadata": {
    "papermill": {
     "duration": 0.008962,
     "end_time": "2024-03-20T01:58:11.929633",
     "exception": false,
     "start_time": "2024-03-20T01:58:11.920671",
     "status": "completed"
    },
    "tags": []
   },
   "source": [
    "Is that MAE good?  There isn't a general rule for what values are good that applies across applications. But you'll see how to use (and improve) this number in the next step.\n",
    "\n",
    "# Keep Going\n",
    "\n",
    "You are ready for **[Underfitting and Overfitting](https://www.kaggle.com/dansbecker/underfitting-and-overfitting).**\n"
   ]
  },
  {
   "cell_type": "markdown",
   "id": "ca8aec5e",
   "metadata": {
    "papermill": {
     "duration": 0.007989,
     "end_time": "2024-03-20T01:58:11.945842",
     "exception": false,
     "start_time": "2024-03-20T01:58:11.937853",
     "status": "completed"
    },
    "tags": []
   },
   "source": [
    "---\n",
    "\n",
    "\n",
    "\n",
    "\n",
    "*Have questions or comments? Visit the [course discussion forum](https://www.kaggle.com/learn/intro-to-machine-learning/discussion) to chat with other learners.*"
   ]
  }
 ],
 "metadata": {
  "kaggle": {
   "accelerator": "none",
   "dataSources": [
    {
     "databundleVersionId": 111096,
     "sourceId": 10211,
     "sourceType": "competition"
    },
    {
     "datasetId": 11167,
     "sourceId": 15520,
     "sourceType": "datasetVersion"
    },
    {
     "datasetId": 2709,
     "sourceId": 38454,
     "sourceType": "datasetVersion"
    }
   ],
   "isGpuEnabled": false,
   "isInternetEnabled": false,
   "language": "python",
   "sourceType": "notebook"
  },
  "kernelspec": {
   "display_name": "Python 3",
   "language": "python",
   "name": "python3"
  },
  "language_info": {
   "codemirror_mode": {
    "name": "ipython",
    "version": 3
   },
   "file_extension": ".py",
   "mimetype": "text/x-python",
   "name": "python",
   "nbconvert_exporter": "python",
   "pygments_lexer": "ipython3",
   "version": "3.10.13"
  },
  "papermill": {
   "default_parameters": {},
   "duration": 7.038565,
   "end_time": "2024-03-20T01:58:12.577854",
   "environment_variables": {},
   "exception": null,
   "input_path": "__notebook__.ipynb",
   "output_path": "__notebook__.ipynb",
   "parameters": {},
   "start_time": "2024-03-20T01:58:05.539289",
   "version": "2.5.0"
  }
 },
 "nbformat": 4,
 "nbformat_minor": 5
}
